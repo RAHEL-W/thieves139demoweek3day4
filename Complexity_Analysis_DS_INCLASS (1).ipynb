{
 "cells": [
  {
   "cell_type": "markdown",
   "metadata": {},
   "source": [
    "# Time/Space Complexity - Intro to Data Structures (User Defined)\n",
    "\n",
    "### Topics to discuss today:\n",
    "\n",
    "<ul>\n",
    "    <li>Time and Space Complexity - What is it/How do we measure it</li>\n",
    "    <li>Asymptotic Analysis</li>\n",
    "    <li><strong>Data Structures</strong></li>\n",
    "    <li>Some of the popular sorting algorithms</li>\n",
    "</ul>\n",
    "\n",
    "### Data Structures to discuss:\n",
    "- Arrays\n",
    "- Stacks\n",
    "- Queues\n",
    "- Linked Lists\n",
    "    - Singly Linked Lists\n",
    "    - Traversing A Linked List\n",
    "    - Finding a node in a linked list\n",
    "    - Adding to a linked list\n"
   ]
  },
  {
   "cell_type": "markdown",
   "metadata": {},
   "source": [
    "## Time and Space Complexity\n",
    "\n",
    "#### What is it?\n",
    "\n",
    "Time and space complexity is the measure of how much time a given action(function) will take to solve a problem. In the same fashion, we determine how much a given data structure will need in terms of memory allocation. A problem can have multiple solutions and finding the optimal solution for the problem needs to be analyzed in time and space.\n",
    "\n",
    "#### How do we measure Time and Space Complexity?\n",
    "\n",
    "In order to measure time and space complexity we use Asymptotic analysis. The reason for this is because we need a way to measure different algorithms (functions) based on the size of their inputs in a mathmatical way. For example, we could have a function that is computed as f(n) and another that is g(n^2). All things around the function staying constant, the only thing that changes is the size of the input. Below is the chart that shows the different Asymptotic analysis formats. "
   ]
  },
  {
   "cell_type": "markdown",
   "metadata": {},
   "source": [
    "<table style=\"text-align:center;\" class=\"table table-bordered\">\n",
    "<tbody><tr>\n",
    "<td>constant</td>\n",
    "<td>−</td>\n",
    "<td>Ο(1)</td>\n",
    "</tr>\n",
    "<tr>\n",
    "<td>logarithmic</td>\n",
    "<td>−</td>\n",
    "<td>Ο(log n)</td>\n",
    "</tr>\n",
    "<tr>\n",
    "<td>linear</td>\n",
    "<td>−</td>\n",
    "<td>Ο(n)</td>\n",
    "</tr>\n",
    "<tr>\n",
    "<td>Linear Logarithmic</td>\n",
    "<td>−</td>\n",
    "<td>Ο(n log n)</td>\n",
    "</tr>\n",
    "<tr>\n",
    "<td>quadratic</td>\n",
    "<td>−</td>\n",
    "<td>Ο(n<sup>2</sup>)</td>\n",
    "</tr>\n",
    "<tr>\n",
    "<td>cubic</td>\n",
    "<td>−</td>\n",
    "<td>Ο(n<sup>3</sup>)</td>\n",
    "</tr>\n",
    "<tr>\n",
    "<td>polynomial</td>\n",
    "<td>−</td>\n",
    "<td>n<sup>Ο(1)</sup></td>\n",
    "</tr>\n",
    "<tr>\n",
    "<td>exponential</td>\n",
    "<td>−</td>\n",
    "<td>2<sup>Ο(n)</sup></td>\n",
    "</tr>\n",
    "</tbody></table>"
   ]
  },
  {
   "cell_type": "markdown",
   "metadata": {},
   "source": [
    "## Arrays"
   ]
  },
  {
   "cell_type": "markdown",
   "metadata": {},
   "source": [
    "In order to measure time and space complexity we use Asymptotic analysis. The reason for this is because we need a way to measure different algorithms (functions) based on the size of their inputs in a mathmatical way. For example, we could have a function that is computed as f(n) and another that is g(n^2). All things around the function staying constant, the only thing that changes is the size of the input. Below is the chart that shows the different Asymptotic analysis formats."
   ]
  },
  {
   "cell_type": "markdown",
   "metadata": {},
   "source": [
    "## Which in python looks like this:"
   ]
  },
  {
   "cell_type": "code",
   "execution_count": null,
   "metadata": {},
   "outputs": [],
   "source": []
  },
  {
   "cell_type": "code",
   "execution_count": null,
   "metadata": {},
   "outputs": [],
   "source": []
  },
  {
   "cell_type": "code",
   "execution_count": null,
   "metadata": {},
   "outputs": [],
   "source": [
    "alist=[1,2,3,4,5]\n",
    "for num  in alist:\n",
    "    print(num)\n",
    "def ptin    "
   ]
  },
  {
   "cell_type": "markdown",
   "metadata": {},
   "source": [
    "### Let's take a look at some of the time and space analysis of arrays"
   ]
  },
  {
   "cell_type": "code",
   "execution_count": null,
   "metadata": {},
   "outputs": [],
   "source": []
  },
  {
   "cell_type": "markdown",
   "metadata": {},
   "source": [
    "## Stacks and Queues\n",
    "\n",
    "** Stacks ** as the name suggests is a data structure that allows for data to follow the Last In First Out priciple(LIFO). Think of a stack of pancakes for example. To get the first pancake you would  start with the top and go down.\n",
    "\n",
    "##### Searching through a stack will be Linear Time O(n) - Constant Space O(1)\n",
    "##### Selecting the last item will be done in Constant Time O(1) - Constant Space O(1)\n",
    "##### Adding to the stack should take Constant Time O(1) - Constant Space O(1)\n",
    "\n",
    "** Queues ** are similar but in this case follow the First In First Out principle(FIFO). Think of this as a line in a black friday sale. The first person camped out for the big screen tv is the first to get it.\n",
    "\n",
    "##### Searching through a queue will be Linear Time O(n) - Constant Space O(1)\n",
    "##### Selecting the first item will be done in Constant Time O(1) - Constant Space O(1)\n",
    "##### Adding to the queue should take Constant Time O(1) - Constant Space O(1)"
   ]
  },
  {
   "cell_type": "code",
   "execution_count": null,
   "metadata": {},
   "outputs": [],
   "source": []
  },
  {
   "cell_type": "markdown",
   "metadata": {},
   "source": [
    "## Linked List (Data Structure)\n",
    "\n",
    "A linked list is created by using the node class. We create a Node object and create another class to use this node object. We pass the appropriate values thorugh the node object to point the to the next data elements.\n",
    "\n",
    "There are some advantages and disadvantages with this data structure. **Advantages** Linked Lists can save memory because they can be flexibile with memory management which saves memory. **Disadvantages** Finding or adding to the list requires traversing the entire list."
   ]
  },
  {
   "cell_type": "code",
   "execution_count": null,
   "metadata": {},
   "outputs": [],
   "source": [
    "class RentalPropertyCalculator:\n",
    "    def __init__(self):\n",
    "        self.income = self.prompt_for_income()\n",
    "        self.expenses = self.prompt_for_expenses()\n",
    "        self.investment = self.prompt_for_investment()\n",
    "\n",
    "    @staticmethod\n",
    "    def prompt_for_income():\n",
    "        print(\"Please enter the monthly income details:\")\n",
    "        return {\n",
    "            'rental_income': float(input(\"Rental Income: \")),\n",
    "            'laundry_income': float(input(\"Laundry Income: \")),\n",
    "            'storage_income': float(input(\"Storage Income: \")),\n",
    "            'misc_income': float(input(\"Misc Income: \"))\n",
    "        }\n",
    "\n",
    "    @staticmethod\n",
    "    def prompt_for_expenses():\n",
    "        print(\"\\nPlease enter the monthly expenses details:\")\n",
    "        return {\n",
    "            'taxes': float(input(\"Taxes: \")),\n",
    "            'insurance': float(input(\"Insurance: \")),\n",
    "            'water_sewer': float(input(\"Water/Sewer: \")),\n",
    "            'garbage': float(input(\"Garbage: \")),\n",
    "            'electric': float(input(\"Electric: \")),\n",
    "            'gas': float(input(\"Gas: \")),\n",
    "            'hoa_fees': float(input(\"HOA Fees: \")),\n",
    "            'lawn_snow': float(input(\"Lawn/Snow: \")),\n",
    "            'vacancy': float(input(\"Vacancy: \")),\n",
    "            'repairs': float(input(\"Repairs: \")),\n",
    "            'capex': float(input(\"CapEx: \")),\n",
    "            'property_management': float(input(\"Property Management: \")),\n",
    "            'mortgage': float(input(\"Mortgage: \"))\n",
    "        }\n",
    "\n",
    "    @staticmethod\n",
    "    def prompt_for_investment():\n",
    "        print(\"\\nPlease enter the total investment details:\")\n",
    "        return {\n",
    "            'down_payment': float(input(\"Down Payment: \")),\n",
    "            'closing_costs': float(input(\"Closing Costs: \")),\n",
    "            'rehab_budget': float(input(\"Rehab Budget: \")),\n",
    "            'misc_other': float(input(\"Misc Other: \"))\n",
    "        }\n",
    "\n",
    "    def calculate_cash_flow(self):\n",
    "        monthly_income = sum(self.income.values())\n",
    "        monthly_expenses = sum(self.expenses.values())\n",
    "        return monthly_income - monthly_expenses\n",
    "\n",
    "    def calculate_annual_cash_flow(self):\n",
    "        return self.calculate_cash_flow() * 12\n",
    "\n",
    "    def calculate_roi(self):\n",
    "        annual_cash_flow = self.calculate_annual_cash_flow()\n",
    "        total_investment = sum(self.investment.values())\n",
    "        if total_investment == 0:\n",
    "            return float('inf')  # To handle division by zero if no investment made\n",
    "        return (annual_cash_flow / total_investment) * 100\n",
    "\n",
    "\n",
    "def main():\n",
    "    print(\"Welcome to the Rental Property ROI Calculator\")\n",
    "    calculator = RentalPropertyCalculator()\n",
    "\n",
    "    cash_flow = calculator.calculate_cash_flow()\n",
    "    annual_cash_flow = calculator.calculate_annual_cash_flow()\n",
    "    roi = calculator.calculate_roi()\n",
    "\n",
    "    print(f\"\\nMonthly Cash Flow: ${cash_flow:.2f}\")\n",
    "    print(f\"Annual Cash Flow: ${annual_cash_flow:.2f}\")\n",
    "    print(f\"ROI: {roi:.2f}%\")\n",
    "\n",
    "    if name == \"__main__\":\n",
    "     main()"
   ]
  }
 ],
 "metadata": {
  "kernelspec": {
   "display_name": "Python 3 (ipykernel)",
   "language": "python",
   "name": "python3"
  },
  "language_info": {
   "codemirror_mode": {
    "name": "ipython",
    "version": 3
   },
   "file_extension": ".py",
   "mimetype": "text/x-python",
   "name": "python",
   "nbconvert_exporter": "python",
   "pygments_lexer": "ipython3",
   "version": "3.11.5"
  }
 },
 "nbformat": 4,
 "nbformat_minor": 2
}
